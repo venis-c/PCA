{
  "cells": [
    {
      "cell_type": "code",
      "execution_count": null,
      "metadata": {
        "id": "t5MQS-BkSDkl"
      },
      "outputs": [],
      "source": [
        "import pandas as pd\n",
        "import seaborn as sns"
      ]
    },
    {
      "cell_type": "code",
      "execution_count": null,
      "metadata": {
        "id": "BezbN6uRSOSz"
      },
      "outputs": [],
      "source": [
        "df=sns.load_dataset(\"iris\")"
      ]
    },
    {
      "cell_type": "code",
      "execution_count": null,
      "metadata": {
        "colab": {
          "base_uri": "https://localhost:8080/",
          "height": 424
        },
        "id": "dqyDZBjWSTl0",
        "outputId": "8ce5b32f-edcb-47d7-bc2f-23779331429c"
      },
      "outputs": [
        {
          "data": {
            "text/html": [
              "\n",
              "  <div id=\"df-65bbcc58-8e8c-4b76-a131-beecc5a8e705\">\n",
              "    <div class=\"colab-df-container\">\n",
              "      <div>\n",
              "<style scoped>\n",
              "    .dataframe tbody tr th:only-of-type {\n",
              "        vertical-align: middle;\n",
              "    }\n",
              "\n",
              "    .dataframe tbody tr th {\n",
              "        vertical-align: top;\n",
              "    }\n",
              "\n",
              "    .dataframe thead th {\n",
              "        text-align: right;\n",
              "    }\n",
              "</style>\n",
              "<table border=\"1\" class=\"dataframe\">\n",
              "  <thead>\n",
              "    <tr style=\"text-align: right;\">\n",
              "      <th></th>\n",
              "      <th>sepal_length</th>\n",
              "      <th>sepal_width</th>\n",
              "      <th>petal_length</th>\n",
              "      <th>petal_width</th>\n",
              "      <th>species</th>\n",
              "    </tr>\n",
              "  </thead>\n",
              "  <tbody>\n",
              "    <tr>\n",
              "      <th>0</th>\n",
              "      <td>5.1</td>\n",
              "      <td>3.5</td>\n",
              "      <td>1.4</td>\n",
              "      <td>0.2</td>\n",
              "      <td>setosa</td>\n",
              "    </tr>\n",
              "    <tr>\n",
              "      <th>1</th>\n",
              "      <td>4.9</td>\n",
              "      <td>3.0</td>\n",
              "      <td>1.4</td>\n",
              "      <td>0.2</td>\n",
              "      <td>setosa</td>\n",
              "    </tr>\n",
              "    <tr>\n",
              "      <th>2</th>\n",
              "      <td>4.7</td>\n",
              "      <td>3.2</td>\n",
              "      <td>1.3</td>\n",
              "      <td>0.2</td>\n",
              "      <td>setosa</td>\n",
              "    </tr>\n",
              "    <tr>\n",
              "      <th>3</th>\n",
              "      <td>4.6</td>\n",
              "      <td>3.1</td>\n",
              "      <td>1.5</td>\n",
              "      <td>0.2</td>\n",
              "      <td>setosa</td>\n",
              "    </tr>\n",
              "    <tr>\n",
              "      <th>4</th>\n",
              "      <td>5.0</td>\n",
              "      <td>3.6</td>\n",
              "      <td>1.4</td>\n",
              "      <td>0.2</td>\n",
              "      <td>setosa</td>\n",
              "    </tr>\n",
              "    <tr>\n",
              "      <th>...</th>\n",
              "      <td>...</td>\n",
              "      <td>...</td>\n",
              "      <td>...</td>\n",
              "      <td>...</td>\n",
              "      <td>...</td>\n",
              "    </tr>\n",
              "    <tr>\n",
              "      <th>145</th>\n",
              "      <td>6.7</td>\n",
              "      <td>3.0</td>\n",
              "      <td>5.2</td>\n",
              "      <td>2.3</td>\n",
              "      <td>virginica</td>\n",
              "    </tr>\n",
              "    <tr>\n",
              "      <th>146</th>\n",
              "      <td>6.3</td>\n",
              "      <td>2.5</td>\n",
              "      <td>5.0</td>\n",
              "      <td>1.9</td>\n",
              "      <td>virginica</td>\n",
              "    </tr>\n",
              "    <tr>\n",
              "      <th>147</th>\n",
              "      <td>6.5</td>\n",
              "      <td>3.0</td>\n",
              "      <td>5.2</td>\n",
              "      <td>2.0</td>\n",
              "      <td>virginica</td>\n",
              "    </tr>\n",
              "    <tr>\n",
              "      <th>148</th>\n",
              "      <td>6.2</td>\n",
              "      <td>3.4</td>\n",
              "      <td>5.4</td>\n",
              "      <td>2.3</td>\n",
              "      <td>virginica</td>\n",
              "    </tr>\n",
              "    <tr>\n",
              "      <th>149</th>\n",
              "      <td>5.9</td>\n",
              "      <td>3.0</td>\n",
              "      <td>5.1</td>\n",
              "      <td>1.8</td>\n",
              "      <td>virginica</td>\n",
              "    </tr>\n",
              "  </tbody>\n",
              "</table>\n",
              "<p>150 rows × 5 columns</p>\n",
              "</div>\n",
              "      <button class=\"colab-df-convert\" onclick=\"convertToInteractive('df-65bbcc58-8e8c-4b76-a131-beecc5a8e705')\"\n",
              "              title=\"Convert this dataframe to an interactive table.\"\n",
              "              style=\"display:none;\">\n",
              "        \n",
              "  <svg xmlns=\"http://www.w3.org/2000/svg\" height=\"24px\"viewBox=\"0 0 24 24\"\n",
              "       width=\"24px\">\n",
              "    <path d=\"M0 0h24v24H0V0z\" fill=\"none\"/>\n",
              "    <path d=\"M18.56 5.44l.94 2.06.94-2.06 2.06-.94-2.06-.94-.94-2.06-.94 2.06-2.06.94zm-11 1L8.5 8.5l.94-2.06 2.06-.94-2.06-.94L8.5 2.5l-.94 2.06-2.06.94zm10 10l.94 2.06.94-2.06 2.06-.94-2.06-.94-.94-2.06-.94 2.06-2.06.94z\"/><path d=\"M17.41 7.96l-1.37-1.37c-.4-.4-.92-.59-1.43-.59-.52 0-1.04.2-1.43.59L10.3 9.45l-7.72 7.72c-.78.78-.78 2.05 0 2.83L4 21.41c.39.39.9.59 1.41.59.51 0 1.02-.2 1.41-.59l7.78-7.78 2.81-2.81c.8-.78.8-2.07 0-2.86zM5.41 20L4 18.59l7.72-7.72 1.47 1.35L5.41 20z\"/>\n",
              "  </svg>\n",
              "      </button>\n",
              "      \n",
              "  <style>\n",
              "    .colab-df-container {\n",
              "      display:flex;\n",
              "      flex-wrap:wrap;\n",
              "      gap: 12px;\n",
              "    }\n",
              "\n",
              "    .colab-df-convert {\n",
              "      background-color: #E8F0FE;\n",
              "      border: none;\n",
              "      border-radius: 50%;\n",
              "      cursor: pointer;\n",
              "      display: none;\n",
              "      fill: #1967D2;\n",
              "      height: 32px;\n",
              "      padding: 0 0 0 0;\n",
              "      width: 32px;\n",
              "    }\n",
              "\n",
              "    .colab-df-convert:hover {\n",
              "      background-color: #E2EBFA;\n",
              "      box-shadow: 0px 1px 2px rgba(60, 64, 67, 0.3), 0px 1px 3px 1px rgba(60, 64, 67, 0.15);\n",
              "      fill: #174EA6;\n",
              "    }\n",
              "\n",
              "    [theme=dark] .colab-df-convert {\n",
              "      background-color: #3B4455;\n",
              "      fill: #D2E3FC;\n",
              "    }\n",
              "\n",
              "    [theme=dark] .colab-df-convert:hover {\n",
              "      background-color: #434B5C;\n",
              "      box-shadow: 0px 1px 3px 1px rgba(0, 0, 0, 0.15);\n",
              "      filter: drop-shadow(0px 1px 2px rgba(0, 0, 0, 0.3));\n",
              "      fill: #FFFFFF;\n",
              "    }\n",
              "  </style>\n",
              "\n",
              "      <script>\n",
              "        const buttonEl =\n",
              "          document.querySelector('#df-65bbcc58-8e8c-4b76-a131-beecc5a8e705 button.colab-df-convert');\n",
              "        buttonEl.style.display =\n",
              "          google.colab.kernel.accessAllowed ? 'block' : 'none';\n",
              "\n",
              "        async function convertToInteractive(key) {\n",
              "          const element = document.querySelector('#df-65bbcc58-8e8c-4b76-a131-beecc5a8e705');\n",
              "          const dataTable =\n",
              "            await google.colab.kernel.invokeFunction('convertToInteractive',\n",
              "                                                     [key], {});\n",
              "          if (!dataTable) return;\n",
              "\n",
              "          const docLinkHtml = 'Like what you see? Visit the ' +\n",
              "            '<a target=\"_blank\" href=https://colab.research.google.com/notebooks/data_table.ipynb>data table notebook</a>'\n",
              "            + ' to learn more about interactive tables.';\n",
              "          element.innerHTML = '';\n",
              "          dataTable['output_type'] = 'display_data';\n",
              "          await google.colab.output.renderOutput(dataTable, element);\n",
              "          const docLink = document.createElement('div');\n",
              "          docLink.innerHTML = docLinkHtml;\n",
              "          element.appendChild(docLink);\n",
              "        }\n",
              "      </script>\n",
              "    </div>\n",
              "  </div>\n",
              "  "
            ],
            "text/plain": [
              "     sepal_length  sepal_width  petal_length  petal_width    species\n",
              "0             5.1          3.5           1.4          0.2     setosa\n",
              "1             4.9          3.0           1.4          0.2     setosa\n",
              "2             4.7          3.2           1.3          0.2     setosa\n",
              "3             4.6          3.1           1.5          0.2     setosa\n",
              "4             5.0          3.6           1.4          0.2     setosa\n",
              "..            ...          ...           ...          ...        ...\n",
              "145           6.7          3.0           5.2          2.3  virginica\n",
              "146           6.3          2.5           5.0          1.9  virginica\n",
              "147           6.5          3.0           5.2          2.0  virginica\n",
              "148           6.2          3.4           5.4          2.3  virginica\n",
              "149           5.9          3.0           5.1          1.8  virginica\n",
              "\n",
              "[150 rows x 5 columns]"
            ]
          },
          "execution_count": 3,
          "metadata": {},
          "output_type": "execute_result"
        }
      ],
      "source": [
        "df"
      ]
    },
    {
      "cell_type": "code",
      "execution_count": null,
      "metadata": {
        "id": "My9NzMrOSUHk"
      },
      "outputs": [],
      "source": [
        "x=df[['sepal_length','sepal_width','petal_length','petal_width']]\n",
        "y=df[['species']]"
      ]
    },
    {
      "cell_type": "code",
      "execution_count": null,
      "metadata": {
        "id": "qqShaut2SiuH"
      },
      "outputs": [],
      "source": [
        "from sklearn.model_selection import train_test_split"
      ]
    },
    {
      "cell_type": "code",
      "execution_count": null,
      "metadata": {
        "id": "eYyRXfrpSzvJ"
      },
      "outputs": [],
      "source": [
        "xtrain,xtest,ytrain,ytest=train_test_split(x,y,test_size=0.3,random_state=47)"
      ]
    },
    {
      "cell_type": "code",
      "execution_count": null,
      "metadata": {
        "colab": {
          "base_uri": "https://localhost:8080/"
        },
        "id": "pFMB-TjjTC1u",
        "outputId": "24345389-9fee-4f41-e24f-4332abed2029"
      },
      "outputs": [
        {
          "data": {
            "text/plain": [
              "((105, 4), (45, 4), (105, 1), (45, 1))"
            ]
          },
          "execution_count": 9,
          "metadata": {},
          "output_type": "execute_result"
        }
      ],
      "source": [
        "xtrain.shape,xtest.shape,ytrain.shape,ytest.shape"
      ]
    },
    {
      "cell_type": "code",
      "execution_count": null,
      "metadata": {
        "id": "Dya6A-mNTrL1"
      },
      "outputs": [],
      "source": [
        "from sklearn.tree import DecisionTreeClassifier"
      ]
    },
    {
      "cell_type": "code",
      "execution_count": null,
      "metadata": {
        "colab": {
          "base_uri": "https://localhost:8080/"
        },
        "id": "asdgcVdLT3T7",
        "outputId": "c87f71c9-0671-4058-cb96-18ee13cd4a44"
      },
      "outputs": [
        {
          "data": {
            "text/plain": [
              "DecisionTreeClassifier()"
            ]
          },
          "execution_count": 11,
          "metadata": {},
          "output_type": "execute_result"
        }
      ],
      "source": [
        "model=DecisionTreeClassifier()\n",
        "model.fit(xtrain,ytrain)"
      ]
    },
    {
      "cell_type": "code",
      "execution_count": null,
      "metadata": {
        "id": "7rT6BLwKT-R8"
      },
      "outputs": [],
      "source": [
        "ypred=model.predict(xtest)"
      ]
    },
    {
      "cell_type": "code",
      "execution_count": null,
      "metadata": {
        "colab": {
          "base_uri": "https://localhost:8080/"
        },
        "id": "KNH_C9aEUErr",
        "outputId": "b571dc48-d198-4461-e111-cce325038e8d"
      },
      "outputs": [
        {
          "data": {
            "text/plain": [
              "array(['setosa', 'setosa', 'versicolor', 'setosa', 'setosa', 'virginica',\n",
              "       'versicolor', 'virginica', 'versicolor', 'setosa', 'virginica',\n",
              "       'setosa', 'versicolor', 'virginica', 'virginica', 'virginica',\n",
              "       'versicolor', 'setosa', 'setosa', 'setosa', 'virginica',\n",
              "       'versicolor', 'virginica', 'versicolor', 'virginica', 'virginica',\n",
              "       'versicolor', 'virginica', 'setosa', 'setosa', 'virginica',\n",
              "       'versicolor', 'virginica', 'setosa', 'versicolor', 'setosa',\n",
              "       'setosa', 'setosa', 'virginica', 'setosa', 'versicolor', 'setosa',\n",
              "       'virginica', 'setosa', 'virginica'], dtype=object)"
            ]
          },
          "execution_count": 13,
          "metadata": {},
          "output_type": "execute_result"
        }
      ],
      "source": [
        "ypred"
      ]
    },
    {
      "cell_type": "code",
      "execution_count": null,
      "metadata": {
        "id": "m0mlJzLSUGC1"
      },
      "outputs": [],
      "source": [
        "from sklearn.metrics import confusion_matrix,accuracy_score"
      ]
    },
    {
      "cell_type": "code",
      "execution_count": null,
      "metadata": {
        "colab": {
          "base_uri": "https://localhost:8080/"
        },
        "id": "6ZeximlOUVDj",
        "outputId": "ca9e182a-6f76-4156-8ea8-acf261fb5fac"
      },
      "outputs": [
        {
          "data": {
            "text/plain": [
              "array([[18,  0,  0],\n",
              "       [ 0,  9,  0],\n",
              "       [ 0,  2, 16]])"
            ]
          },
          "execution_count": 15,
          "metadata": {},
          "output_type": "execute_result"
        },
        {
          "data": {
            "text/plain": [
              "array([[18,  0,  0],\n",
              "       [ 0,  9,  0],\n",
              "       [ 0,  2, 16]])"
            ]
          },
          "execution_count": 18,
          "metadata": {},
          "output_type": "execute_result"
        }
      ],
      "source": [
        "confusion_matrix(ytest,ypred)"
      ]
    },
    {
      "cell_type": "code",
      "execution_count": null,
      "metadata": {
        "colab": {
          "base_uri": "https://localhost:8080/"
        },
        "id": "8qoAfXu-UZ3c",
        "outputId": "8e3d438c-4b30-400b-de6d-145812fe1f62"
      },
      "outputs": [
        {
          "data": {
            "text/plain": [
              "0.9555555555555556"
            ]
          },
          "execution_count": 20,
          "metadata": {},
          "output_type": "execute_result"
        }
      ],
      "source": [
        "accuracy_score(ytest,ypred)"
      ]
    },
    {
      "cell_type": "code",
      "execution_count": null,
      "metadata": {
        "id": "yajiZXd_UdYZ"
      },
      "outputs": [],
      "source": [
        "from sklearn.decomposition import PCA"
      ]
    },
    {
      "cell_type": "code",
      "execution_count": null,
      "metadata": {
        "colab": {
          "background_save": true
        },
        "id": "TUN6w1QHVV6D"
      },
      "outputs": [],
      "source": [
        "pca=PCA(n_components=0.9555555555555556)"
      ]
    },
    {
      "cell_type": "code",
      "execution_count": null,
      "metadata": {
        "colab": {
          "background_save": true,
          "base_uri": "https://localhost:8080/"
        },
        "id": "wcKGp6lMVfi4",
        "outputId": "b1e55edc-66ea-4ac1-97c0-02b2a6fe800a"
      },
      "outputs": [
        {
          "data": {
            "text/plain": [
              "PCA(n_components=0.95)"
            ]
          },
          "execution_count": null,
          "metadata": {},
          "output_type": "execute_result"
        }
      ],
      "source": [
        "pca.fit(xtrain)"
      ]
    },
    {
      "cell_type": "code",
      "execution_count": 35,
      "metadata": {
        "id": "yYRRGF0pVjQd"
      },
      "outputs": [],
      "source": [
        "xtrain_transformed=pca.transform(xtrain)"
      ]
    },
    {
      "cell_type": "code",
      "execution_count": null,
      "metadata": {
        "colab": {
          "background_save": true,
          "base_uri": "https://localhost:8080/"
        },
        "id": "8rqs6gE6VqWB",
        "outputId": "dd144cbd-c8ef-40c4-937c-c66657525236"
      },
      "outputs": [
        {
          "data": {
            "text/plain": [
              "(105, 2)"
            ]
          },
          "execution_count": null,
          "metadata": {},
          "output_type": "execute_result"
        }
      ],
      "source": [
        "xtrain_transformed.shape"
      ]
    },
    {
      "cell_type": "code",
      "execution_count": 34,
      "metadata": {
        "colab": {
          "base_uri": "https://localhost:8080/"
        },
        "id": "XEPPGMUuVuMt",
        "outputId": "76c3077f-2034-486c-e0ed-4e0fb3d243db"
      },
      "outputs": [
        {
          "output_type": "execute_result",
          "data": {
            "text/plain": [
              "array([[-3.20676506,  0.23082558],\n",
              "       [ 2.62529352,  0.62239762],\n",
              "       [-2.58089453, -0.10568064],\n",
              "       [ 1.97794276, -0.11922618],\n",
              "       [ 1.53287081, -0.29726928],\n",
              "       [-2.84745592, -0.82733758],\n",
              "       [-0.50856944, -1.17533042],\n",
              "       [ 1.91387682,  0.18277757],\n",
              "       [ 1.05328409,  0.30872706],\n",
              "       [-2.63799478,  0.4116597 ],\n",
              "       [-2.7079512 , -0.14608193],\n",
              "       [ 0.51912767, -0.02799068],\n",
              "       [ 1.91023945,  0.17207338],\n",
              "       [ 2.57311093,  0.33690387],\n",
              "       [-2.97573284, -0.38824487],\n",
              "       [-3.2192131 , -0.41002879],\n",
              "       [-2.29975365,  0.4917709 ],\n",
              "       [ 0.99173023, -0.05309197],\n",
              "       [-0.70341695, -0.92337846],\n",
              "       [-2.62545178, -0.10150689],\n",
              "       [-2.63557766,  0.90185789],\n",
              "       [ 2.42946577,  0.36473739],\n",
              "       [ 2.85174715,  0.44521091],\n",
              "       [ 0.04900717, -0.49969003],\n",
              "       [-2.77981755, -0.13163832],\n",
              "       [ 0.52131916, -1.12709475],\n",
              "       [ 2.1662327 , -0.15228714],\n",
              "       [ 1.91312963,  0.10950034],\n",
              "       [ 2.93044521,  0.83792476],\n",
              "       [-2.49974445, -0.04274529],\n",
              "       [ 1.3413216 ,  0.32633724],\n",
              "       [-2.81299453,  0.0048313 ],\n",
              "       [ 0.14219718, -0.23012789],\n",
              "       [-2.45973577,  0.22794255],\n",
              "       [ 1.38484109, -0.35341717],\n",
              "       [ 2.1752649 ,  0.28498851],\n",
              "       [ 2.39840175,  0.53237889],\n",
              "       [-0.90325116, -0.66377036],\n",
              "       [ 2.35785096,  0.01928431],\n",
              "       [ 1.8099662 , -0.14474952],\n",
              "       [ 0.16975781, -0.60029443],\n",
              "       [ 2.13029952, -0.14506534],\n",
              "       [ 1.450722  , -0.07358518],\n",
              "       [ 1.41945495, -0.50930079],\n",
              "       [-2.6096179 ,  0.90994836],\n",
              "       [ 1.2654973 , -0.10520462],\n",
              "       [-2.88188317, -0.04435182],\n",
              "       [ 0.91029859,  0.4108915 ],\n",
              "       [-2.62937071,  0.41470775],\n",
              "       [ 3.80500422,  0.32267178],\n",
              "       [ 0.5925949 , -0.4206913 ],\n",
              "       [ 0.94259439,  0.39296551],\n",
              "       [ 0.46776874, -0.59799653],\n",
              "       [-2.39884157,  0.51543068],\n",
              "       [ 2.11841618,  0.44243217],\n",
              "       [ 0.8162274 ,  0.259873  ],\n",
              "       [ 0.24128509, -0.25378767],\n",
              "       [ 0.94905288, -0.45408131],\n",
              "       [ 1.56755372,  0.34202506],\n",
              "       [ 1.10492458,  0.35181408],\n",
              "       [-2.99166167, -0.24567915],\n",
              "       [ 0.72366703,  0.23166392],\n",
              "       [-2.39583384,  0.28478181],\n",
              "       [-2.5764109 ,  0.60645659],\n",
              "       [-2.53251331,  0.52795193],\n",
              "       [-2.551858  ,  0.46693892],\n",
              "       [-2.58330754,  1.18629796],\n",
              "       [-0.30020611, -0.2778695 ],\n",
              "       [ 1.23129157,  0.4849066 ],\n",
              "       [ 1.12386114, -0.02140051],\n",
              "       [-0.7479742 , -0.91920471],\n",
              "       [-2.665712  , -0.01229804],\n",
              "       [ 1.41945495, -0.50930079],\n",
              "       [ 1.47543149,  0.58102144],\n",
              "       [-2.8575818 ,  0.1760272 ],\n",
              "       [-2.71848521,  0.42305526],\n",
              "       [-0.18650868, -0.59275682],\n",
              "       [ 0.33814249, -0.14054349],\n",
              "       [ 1.67171587,  0.30965547],\n",
              "       [ 0.66578056, -0.28647308],\n",
              "       [-0.16741554, -0.17184712],\n",
              "       [-2.62977883, -0.01951984],\n",
              "       [ 0.23563872, -0.32046244],\n",
              "       [ 0.9278283 , -0.10993123],\n",
              "       [-2.53119399,  0.67661375],\n",
              "       [ 0.18568664, -0.74286015],\n",
              "       [ 1.39622136, -0.2211213 ],\n",
              "       [ 1.95410702,  0.26059087],\n",
              "       [ 1.39553168, -0.12843007],\n",
              "       [ 0.82033783, -0.28219404],\n",
              "       [ 0.938927  ,  0.54928347],\n",
              "       [ 1.5911564 , -0.47412695],\n",
              "       [ 1.29717248,  0.76473859],\n",
              "       [ 0.64643588, -0.34748609],\n",
              "       [ 1.34924699, -0.70714573],\n",
              "       [ 1.77312183,  0.14803806],\n",
              "       [-2.61707925,  0.26143785],\n",
              "       [-0.00549347, -0.64722615],\n",
              "       [-2.29376822,  0.19749531],\n",
              "       [-0.06509838, -0.61903031],\n",
              "       [ 1.30366099, -0.24933038],\n",
              "       [-2.88229129, -0.47857942],\n",
              "       [ 0.36542156,  0.0162088 ],\n",
              "       [ 1.78491764, -0.43840576],\n",
              "       [ 3.08932952,  0.76021674]])"
            ]
          },
          "metadata": {},
          "execution_count": 34
        }
      ],
      "source": [
        "xtrain_transformed"
      ]
    },
    {
      "cell_type": "code",
      "source": [
        "xtest_transformed=pca.transform(xtest)"
      ],
      "metadata": {
        "id": "ERaicW6tW6Th"
      },
      "execution_count": 36,
      "outputs": []
    },
    {
      "cell_type": "code",
      "source": [
        "xtest_transformed.shape"
      ],
      "metadata": {
        "colab": {
          "base_uri": "https://localhost:8080/"
        },
        "id": "GoVVXYe3XvUB",
        "outputId": "a7b7d3b5-971f-4e1e-a7e2-e69c42165da0"
      },
      "execution_count": 37,
      "outputs": [
        {
          "output_type": "execute_result",
          "data": {
            "text/plain": [
              "(45, 2)"
            ]
          },
          "metadata": {},
          "execution_count": 37
        }
      ]
    },
    {
      "cell_type": "code",
      "source": [
        "new_model=DecisionTreeClassifier()\n",
        "new_model.fit(xtrain_transformed,ytrain)\n"
      ],
      "metadata": {
        "colab": {
          "base_uri": "https://localhost:8080/"
        },
        "id": "xZqUbzQkXyyy",
        "outputId": "8802ed17-dddb-45ed-86ac-d802b1ddfebc"
      },
      "execution_count": 38,
      "outputs": [
        {
          "output_type": "execute_result",
          "data": {
            "text/plain": [
              "DecisionTreeClassifier()"
            ]
          },
          "metadata": {},
          "execution_count": 38
        }
      ]
    },
    {
      "cell_type": "code",
      "source": [
        "y_pred=new_model.predict(xtest_transformed)"
      ],
      "metadata": {
        "id": "4HhPBfj1YMtB"
      },
      "execution_count": 39,
      "outputs": []
    },
    {
      "cell_type": "code",
      "source": [
        "accuracy_score(ytest,y_pred)"
      ],
      "metadata": {
        "colab": {
          "base_uri": "https://localhost:8080/"
        },
        "id": "gtGubDjTYqbz",
        "outputId": "e8fee085-4e78-4325-9009-202dd4e14b92"
      },
      "execution_count": 40,
      "outputs": [
        {
          "output_type": "execute_result",
          "data": {
            "text/plain": [
              "0.9111111111111111"
            ]
          },
          "metadata": {},
          "execution_count": 40
        }
      ]
    },
    {
      "cell_type": "code",
      "source": [
        ""
      ],
      "metadata": {
        "id": "n2TACACUYxOT"
      },
      "execution_count": null,
      "outputs": []
    }
  ],
  "metadata": {
    "colab": {
      "collapsed_sections": [],
      "name": "PCA.ipynb",
      "provenance": []
    },
    "kernelspec": {
      "display_name": "Python 3",
      "name": "python3"
    },
    "language_info": {
      "name": "python"
    }
  },
  "nbformat": 4,
  "nbformat_minor": 0
}